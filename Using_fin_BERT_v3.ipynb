{
  "cells": [
    {
      "cell_type": "markdown",
      "metadata": {
        "id": "view-in-github",
        "colab_type": "text"
      },
      "source": [
        "<a href=\"https://colab.research.google.com/github/jyg333/avr_training/blob/main/Using_fin_BERT_v3.ipynb\" target=\"_parent\"><img src=\"https://colab.research.google.com/assets/colab-badge.svg\" alt=\"Open In Colab\"/></a>"
      ]
    },
    {
      "cell_type": "code",
      "execution_count": null,
      "metadata": {
        "id": "LwzukR12wLIH"
      },
      "outputs": [],
      "source": [
        "!pip install transformers"
      ]
    },
    {
      "cell_type": "code",
      "execution_count": null,
      "metadata": {
        "id": "0xUsTWbcwLxU"
      },
      "outputs": [],
      "source": [
        "from transformers.utils.dummy_pt_objects import BertForSequenceClassification\n",
        "from transformers import BertTokenizer, BertForSequenceClassification\n",
        "\n",
        "from transformers import AutoTokenizer, AutoModelForSequenceClassification\n",
        "\n",
        "tokenizer = AutoTokenizer.from_pretrained(\"snunlp/KR-FinBert-SC\")\n",
        "\n",
        "model = AutoModelForSequenceClassification.from_pretrained(\"snunlp/KR-FinBert-SC\")\n",
        "\n",
        "from transformers import pipeline\n",
        "nlp = pipeline(\"sentiment-analysis\", model = model, tokenizer = tokenizer)\n",
        "\n",
        "input = \" \"\n",
        "nlp(input)"
      ]
    },
    {
      "cell_type": "code",
      "execution_count": null,
      "metadata": {
        "id": "YzdQsXSewS7O"
      },
      "outputs": [],
      "source": [
        "!pip install selenium\n",
        "# !apt-get update\n",
        "!apt install chromium-chromedriver"
      ]
    },
    {
      "cell_type": "code",
      "execution_count": null,
      "metadata": {
        "id": "iKoZZsWuwYug"
      },
      "outputs": [],
      "source": [
        "import time\n",
        "from selenium import webdriver\n",
        "from selenium.webdriver.common.by import By\n",
        "\n",
        "samsung_url = 'https://finance.naver.com/item/news.naver?code=005930'\n",
        "naver_url = 'https://finance.naver.com/item/news.naver?code=035420'\n",
        "kakao_url = 'https://finance.naver.com/item/news.naver?code=035720'\n",
        "lgES_url = 'https://finance.naver.com/item/news.naver?code=373220'\n",
        "\n",
        "chrome_opt = webdriver.ChromeOptions()\n",
        "chrome_opt.add_argument('--headless')  # 창을 숨기는 옵션\n",
        "chrome_opt.add_argument('--no-sandbox')\n",
        "chrome_opt.add_argument('--disable-dev-shm-usage')\n",
        "wd = webdriver.Chrome('chromedriver', options=chrome_opt)\n",
        "wd.get(lgES_url)\n",
        "\n",
        "time.sleep(2)\n",
        "\n",
        "para = []\n",
        "total = []\n",
        "a = 1\n",
        "for i in range(10):\n",
        "    wd.switch_to.frame('news')\n",
        "\n",
        "    \n",
        "    time.sleep(3)\n",
        "    \n",
        "    if a in [5,7,9]:\n",
        "      a += 1\n",
        "    \n",
        "    print(a)\n",
        "    xpath = (f'/html/body/div/table[1]/tbody/tr[{a}]/td[1]/a')\n",
        "    \n",
        "      \n",
        "    wd.find_element(by=By.XPATH, value=xpath).click()\n",
        "    ids = 'news_read'\n",
        "    for t1 in wd.find_elements_by_id(ids):  # find_elements(by=By.ID, value=ids):\n",
        "        para.append(t1.text)\n",
        "\n",
        "        time.sleep(2)\n",
        "    \n",
        "    a += 1\n",
        "    wd.back()\n",
        "    time.sleep(2)\n",
        "    total.append(para)\n",
        "    \n",
        "wd.close()\n"
      ]
    },
    {
      "cell_type": "code",
      "execution_count": 51,
      "metadata": {
        "colab": {
          "base_uri": "https://localhost:8080/"
        },
        "id": "Q7z0cvDV-2mc",
        "outputId": "32fc18c0-4808-41ad-c470-7ffc891bc55f"
      },
      "outputs": [
        {
          "output_type": "stream",
          "name": "stdout",
          "text": [
            "7 0 3\n"
          ]
        }
      ],
      "source": [
        "pos = 0\n",
        "neu = 0\n",
        "nega = 0\n",
        "# result = list((nlp(para[i][:500])[0]).values())\n",
        "for i in range(10):\n",
        "  \n",
        "  if len(para[i]) > 510:\n",
        "    # print((nlp(para[i][300:800])))\n",
        "    result = list((nlp(para[i][10:510])[0]).values())\n",
        "    \n",
        "    if result[0] == 'positive' and result[1] >0.7:\n",
        "      pos += 1\n",
        "    elif result[0] == 'negative' and result[1] >0.7:\n",
        "      nega += 1\n",
        "    elif result[0] == 'neutral' and result[1] >0.7:\n",
        "      neu += 1\n",
        "\n",
        "  else:  \n",
        "    result01 = list((nlp(para[i])[0]).values())\n",
        "    if result01[0] == 'positive' and result01[1] >0.7:\n",
        "      pos += 1\n",
        "    elif result01[0] == 'negative' and result01[1] >0.7:\n",
        "      nega += 1\n",
        "    elif result01[0] == 'neutral' and result01[1] >0.7:\n",
        "      neu =+ 1\n",
        "print(pos, nega, neu)\n"
      ]
    },
    {
      "cell_type": "code",
      "source": [
        "pnn = pos + nega + neu\n",
        "\n",
        "if pnn < 10:\n",
        "  neu = neu + (10-pnn)"
      ],
      "metadata": {
        "id": "rKuZbuXwPWwt"
      },
      "execution_count": 43,
      "outputs": []
    },
    {
      "cell_type": "code",
      "execution_count": null,
      "metadata": {
        "id": "rlVsmXjlnTti"
      },
      "outputs": [],
      "source": [
        "!pip install PyMySQL\n",
        "!pip install -U finance-datareader"
      ]
    },
    {
      "cell_type": "code",
      "execution_count": null,
      "metadata": {
        "id": "EszY37ZcnNIF"
      },
      "outputs": [],
      "source": [
        "\"\"\"Access AWS RDS\"\"\"\n",
        "\n",
        "import pymysql\n",
        "\n",
        "host_name = 'hidden'\n",
        "\n",
        "user_name = 'hidden'\n",
        "pass_word = 'hidden'\n",
        "db_name = 'database-1'\n",
        "\n",
        "db = pymysql.connect(host=host_name,port=3306,user= user_name,passwd=pass_word)\n",
        "\n",
        "cursor = db.cursor()\n",
        "cursor.execute(\"select version()\")"
      ]
    },
    {
      "cell_type": "code",
      "execution_count": 24,
      "metadata": {
        "id": "FK3eksT86ZZi"
      },
      "outputs": [],
      "source": [
        "import FinanceDataReader as fdr\n",
        "from datetime import datetime\n",
        "\n",
        "today = datetime.now().strftime(\"%Y-%m-%d\")\n",
        "stock_list = [\"Naver\" , \"samsung\", \"LGEnergySol\", \"KaKao\"]\n",
        "stock_code = {\n",
        "    \"Naver\" : '035420',\n",
        "    \"samsung\" : '005930',\n",
        "    \"LGEnergySol\" : '373220',\n",
        "    \"KaKao\" : '035720'\n",
        "}\n",
        "\n",
        "open_price = []\n",
        "\n",
        "for i in range(4):\n",
        "  stock_price = fdr.DataReader(stock_code[stock_list[i]] ,today)\n",
        "  stock_price = int(stock_price['Open'][0])\n",
        "  open_price.append(stock_price)"
      ]
    },
    {
      "cell_type": "code",
      "execution_count": 52,
      "metadata": {
        "id": "71-HGbHR0ubT",
        "colab": {
          "base_uri": "https://localhost:8080/"
        },
        "outputId": "a10b6b6f-fb78-410f-ce35-d6105b04ed36"
      },
      "outputs": [
        {
          "output_type": "execute_result",
          "data": {
            "text/plain": [
              "1"
            ]
          },
          "metadata": {},
          "execution_count": 52
        }
      ],
      "source": [
        "cursor = db.cursor()\n",
        "\n",
        "query00 = \"\"\"use stock_anal \"\"\"\n",
        "cursor.execute(query00)\n",
        "query = f\"INSERT INTO LGEnergySol (id, price, date, positive, negative, neutral) VALUE ({2}, {open_price[2]}, now(), {pos}, {nega}, {neu})\"\n",
        "cursor.execute(query)"
      ]
    },
    {
      "cell_type": "code",
      "execution_count": 53,
      "metadata": {
        "id": "0u0QOiJt15vp"
      },
      "outputs": [],
      "source": [
        "db.commit()"
      ]
    },
    {
      "cell_type": "code",
      "execution_count": null,
      "metadata": {
        "id": "udpU52KO2L4w"
      },
      "outputs": [],
      "source": [
        "query02 = \"delete from samsung where id > 0\"\n",
        "cursor.execute(query02)"
      ]
    },
    {
      "cell_type": "code",
      "source": [
        "cursor.close()"
      ],
      "metadata": {
        "id": "5ft8qhZ5cPPe"
      },
      "execution_count": 262,
      "outputs": []
    }
  ],
  "metadata": {
    "colab": {
      "collapsed_sections": [],
      "name": "Using_fin_BERT-v3.ipynb",
      "provenance": [],
      "authorship_tag": "ABX9TyPiOOeV+e9ccBh5DGNUkuSp",
      "include_colab_link": true
    },
    "kernelspec": {
      "display_name": "Python 3",
      "name": "python3"
    },
    "language_info": {
      "name": "python"
    }
  },
  "nbformat": 4,
  "nbformat_minor": 0
}